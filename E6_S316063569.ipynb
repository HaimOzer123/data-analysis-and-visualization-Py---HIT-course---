{
  "nbformat": 4,
  "nbformat_minor": 0,
  "metadata": {
    "colab": {
      "name": "E6 -S316063569.ipynb",
      "provenance": [],
      "collapsed_sections": []
    },
    "kernelspec": {
      "name": "python3",
      "display_name": "Python 3"
    },
    "language_info": {
      "name": "python"
    }
  },
  "cells": [
    {
      "cell_type": "code",
      "source": [
        "from google.colab import drive\n",
        "drive.mount('/content/drive')"
      ],
      "metadata": {
        "colab": {
          "base_uri": "https://localhost:8080/"
        },
        "id": "tBnSZFpTHBdW",
        "outputId": "84d38628-bf45-4de0-d457-f58d2ecccf39"
      },
      "execution_count": 2,
      "outputs": [
        {
          "output_type": "stream",
          "name": "stdout",
          "text": [
            "Drive already mounted at /content/drive; to attempt to forcibly remount, call drive.mount(\"/content/drive\", force_remount=True).\n"
          ]
        }
      ]
    },
    {
      "cell_type": "code",
      "source": [
        "import os\n",
        "folder_path='/content/drive/MyDrive/תרגיל 6'\n",
        "os.chdir(folder_path)"
      ],
      "metadata": {
        "id": "NyeiVJ3OHM56"
      },
      "execution_count": 3,
      "outputs": []
    },
    {
      "cell_type": "code",
      "source": [
        "import pandas as pd\n",
        "import numpy as np"
      ],
      "metadata": {
        "id": "fYzsQ2boFNSg"
      },
      "execution_count": 63,
      "outputs": []
    },
    {
      "cell_type": "markdown",
      "source": [
        "**שאלה 1**"
      ],
      "metadata": {
        "id": "PhR9C3YKFIiW"
      }
    },
    {
      "cell_type": "code",
      "source": [
        "def ReadData (Str,Tpl):\n",
        "  if isinstance(Str,str) != True:\n",
        "    return None\n",
        "\n",
        "  Excel = pd.read_excel(Str)\n",
        "  FrameExcel = pd.DataFrame(data=Excel, columns=Tpl)\n",
        "  Mat = FrameExcel.to_numpy() \n",
        "\n",
        "  return Mat"
      ],
      "metadata": {
        "id": "0ld1S-70F9Mw"
      },
      "execution_count": 60,
      "outputs": []
    },
    {
      "cell_type": "code",
      "source": [
        "data2 = ReadData('data_2.xlsx',('a','b','e'))\n",
        "print('data2:\\n{}\\n'.format(data2))"
      ],
      "metadata": {
        "colab": {
          "base_uri": "https://localhost:8080/"
        },
        "id": "KLc_NljhIEMR",
        "outputId": "f1af5bc1-75d2-442f-e753-73461dba2cab"
      },
      "execution_count": 61,
      "outputs": [
        {
          "output_type": "stream",
          "name": "stdout",
          "text": [
            "data2:\n",
            "[[ 0 -2 13]\n",
            " [ 0  0 11]\n",
            " [-1 -2 15]\n",
            " [-1 -1  8]\n",
            " [-1 -1  5]\n",
            " [-1  1  9]\n",
            " [ 0 -1  7]\n",
            " [ 1 -1  3]\n",
            " [-1 -1  8]\n",
            " [ 1  0  5]\n",
            " [ 1  1 13]\n",
            " [ 1  0  1]\n",
            " [ 0  0 10]\n",
            " [-2  1  7]\n",
            " [ 1  0  8]]\n",
            "\n"
          ]
        }
      ]
    },
    {
      "cell_type": "code",
      "source": [
        "data1 = ReadData('data_1.xlsx',('X','Z'))\n",
        "print('data1[:10]:\\n{}\\n'.format(data1[:10]))"
      ],
      "metadata": {
        "colab": {
          "base_uri": "https://localhost:8080/"
        },
        "id": "iKyhNIo8I8LL",
        "outputId": "6f806c38-a677-4c92-9df3-3e98fd68f525"
      },
      "execution_count": 62,
      "outputs": [
        {
          "output_type": "stream",
          "name": "stdout",
          "text": [
            "data1[:10]:\n",
            "[[ 0.49132356 -1.41771793]\n",
            " [-0.03896942  2.44772496]\n",
            " [-1.39934501 -1.61542558]\n",
            " [-1.21776548  0.10482324]\n",
            " [-0.69810261 -0.37895783]\n",
            " [-0.88780233  4.82330584]\n",
            " [ 0.17884919  0.46557026]\n",
            " [ 0.61669139  1.93336617]\n",
            " [-0.55889258  0.85962682]\n",
            " [ 0.84028708  2.97607116]]\n",
            "\n"
          ]
        }
      ]
    },
    {
      "cell_type": "code",
      "source": [
        "data2 = 'data_2.xlsx'\n",
        "DR = pd.read_excel(data2)\n",
        "print(DR)"
      ],
      "metadata": {
        "colab": {
          "base_uri": "https://localhost:8080/"
        },
        "id": "1JV5Xp7rJnXG",
        "outputId": "39265245-d829-4b1b-d55e-b401494691a6"
      },
      "execution_count": 12,
      "outputs": [
        {
          "output_type": "stream",
          "name": "stdout",
          "text": [
            "    b   e  a  d  c\n",
            "0  -2  13  0 -1  0\n",
            "1   0  11  0  2  2\n",
            "2  -2  15 -1 -2  0\n",
            "3  -1   8 -1  0  1\n",
            "4  -1   5 -1  0  1\n",
            "5   1   9 -1  5  2\n",
            "6  -1   7  0  0 -1\n",
            "7  -1   3  1  2  1\n",
            "8  -1   8 -1  1 -1\n",
            "9   0   5  1  3 -1\n",
            "10  1  13  1  4 -1\n",
            "11  0   1  1  3  1\n",
            "12  0  10  0  4  1\n",
            "13  1   7 -2  5 -2\n",
            "14  0   8  1  4 -1\n"
          ]
        }
      ]
    },
    {
      "cell_type": "code",
      "source": [
        "data1 = 'data_1.xlsx'\n",
        "DR = pd.read_excel(data1)\n",
        "print(DR)"
      ],
      "metadata": {
        "colab": {
          "base_uri": "https://localhost:8080/"
        },
        "id": "o-8bPpcNJSgk",
        "outputId": "c70f5e31-83ff-4147-caf1-7befbd36c973"
      },
      "execution_count": 11,
      "outputs": [
        {
          "output_type": "stream",
          "name": "stdout",
          "text": [
            "           Z         W         X          t         Y\n",
            "0  -1.417718 -0.367960  0.491324   0.000000 -2.177237\n",
            "1   2.447725  1.666527 -0.038969   0.151515 -0.425750\n",
            "2  -1.615426 -0.323282 -1.399345   0.303030 -1.972809\n",
            "3   0.104823  1.251018 -1.217765   0.454545 -0.930761\n",
            "4  -0.378958  0.653776 -0.698103   0.606061 -1.493063\n",
            "..       ...       ...       ...        ...       ...\n",
            "95  0.255290 -0.342936 -0.285291  14.393939 -1.295301\n",
            "96  2.441828  0.658673 -0.421321  14.545455 -0.485669\n",
            "97 -0.099058 -1.913569 -1.003555  14.696970 -1.422098\n",
            "98 -1.175327 -0.532078  0.581675  14.848485 -1.715053\n",
            "99  3.712619  1.016807 -0.420889  15.000000  0.719369\n",
            "\n",
            "[100 rows x 5 columns]\n"
          ]
        }
      ]
    },
    {
      "cell_type": "markdown",
      "source": [
        "**שאלה 2**"
      ],
      "metadata": {
        "id": "che6GZpnSx13"
      }
    },
    {
      "cell_type": "code",
      "source": [
        "def PearsonCorrelation (X,Y):\n",
        "  R=(np.sum((X-np.mean(X))*(Y-np.mean(Y))))/(np.sqrt(np.sum((X-np.mean(X))**2)*np.sum((Y-np.mean(Y))**2)))\n",
        "  return R"
      ],
      "metadata": {
        "id": "f-APVHJhS0HV"
      },
      "execution_count": 64,
      "outputs": []
    },
    {
      "cell_type": "code",
      "source": [
        "X = np.array([9,7,5,3,1])\n",
        "Y = np.array([10,6,1,5,3])\n",
        "R1= PearsonCorrelation(X ,Y)\n",
        "print('R1: {}\\n'.format(R1))"
      ],
      "metadata": {
        "colab": {
          "base_uri": "https://localhost:8080/"
        },
        "id": "ROwQQ8IhWLjR",
        "outputId": "6a3522ee-095a-4cb3-c7cc-3e68b56b57dc"
      },
      "execution_count": 65,
      "outputs": [
        {
          "output_type": "stream",
          "name": "stdout",
          "text": [
            "R1: 0.6993786061802354\n",
            "\n"
          ]
        }
      ]
    },
    {
      "cell_type": "code",
      "source": [
        "X = np.array([1,0,1])\n",
        "Y = np.array([0,2,1])\n",
        "R2= PearsonCorrelation(X ,Y)\n",
        "print('R2: {}\\n'.format(R2))"
      ],
      "metadata": {
        "colab": {
          "base_uri": "https://localhost:8080/"
        },
        "id": "yoCy8oGzbdX2",
        "outputId": "21bba78a-4386-482b-8dd7-9bb689ff0e80"
      },
      "execution_count": 66,
      "outputs": [
        {
          "output_type": "stream",
          "name": "stdout",
          "text": [
            "R2: -0.8660254037844385\n",
            "\n"
          ]
        }
      ]
    },
    {
      "cell_type": "markdown",
      "source": [
        "**שאלה 3**"
      ],
      "metadata": {
        "id": "GMHoMmnQb5q0"
      }
    },
    {
      "cell_type": "code",
      "source": [
        "import matplotlib.pyplot as plt"
      ],
      "metadata": {
        "id": "JrhNFP-chCEu"
      },
      "execution_count": null,
      "outputs": []
    },
    {
      "cell_type": "code",
      "source": [
        "def PlotMyData (Mat,List_num,List_names):\n",
        "  NumOfWin = range(len(List_names))\n",
        "  #if NumOfWin in range(Len):\n",
        "  a = int(len(List_num[NumOfWin][0]))\n",
        "  b = int(len(List_num[NumOfWin][1]))\n",
        "  X = Mat [:, a]\n",
        "  Y = Mat [:, b]\n",
        "  R= PearsonCorrelation(X,Y)\n",
        "\n",
        "  sub1 = List_names [NumOfWin][0]\n",
        "  sub2 = List_names [NumOfWin][1]\n",
        "\n",
        "  plt.figure()\n",
        "  plt.subplot(len(List_names),1, NumOfWin+1)\n",
        "  plt.title('{}: R{}'.format(sub1,sub2,R))\n",
        "  plt.plot(X)\n",
        "  plt.plot(Y)\n",
        "  plt.legend(('{}'.format(sub1),'{}'.format(sub2)))\n",
        "  plt.show()"
      ],
      "metadata": {
        "id": "dwxUJnshb7kj"
      },
      "execution_count": 93,
      "outputs": []
    },
    {
      "cell_type": "code",
      "source": [
        "data = ReadData('data_1.xlsx',('X','Y','Z'))\n",
        "PlotMyData(data, ['01','12','02'],['XY','YZ','XZ'])"
      ],
      "metadata": {
        "colab": {
          "base_uri": "https://localhost:8080/",
          "height": 304
        },
        "id": "hXBhLqjuiH4l",
        "outputId": "abb72cd0-d867-4b9e-fc76-29e1a1f275b7"
      },
      "execution_count": 91,
      "outputs": [
        {
          "output_type": "error",
          "ename": "TypeError",
          "evalue": "ignored",
          "traceback": [
            "\u001b[0;31m---------------------------------------------------------------------------\u001b[0m",
            "\u001b[0;31mTypeError\u001b[0m                                 Traceback (most recent call last)",
            "\u001b[0;32m<ipython-input-91-0f4ab4800288>\u001b[0m in \u001b[0;36m<module>\u001b[0;34m()\u001b[0m\n\u001b[1;32m      1\u001b[0m \u001b[0mdata\u001b[0m \u001b[0;34m=\u001b[0m \u001b[0mReadData\u001b[0m\u001b[0;34m(\u001b[0m\u001b[0;34m'data_1.xlsx'\u001b[0m\u001b[0;34m,\u001b[0m\u001b[0;34m(\u001b[0m\u001b[0;34m'X'\u001b[0m\u001b[0;34m,\u001b[0m\u001b[0;34m'Y'\u001b[0m\u001b[0;34m,\u001b[0m\u001b[0;34m'Z'\u001b[0m\u001b[0;34m)\u001b[0m\u001b[0;34m)\u001b[0m\u001b[0;34m\u001b[0m\u001b[0;34m\u001b[0m\u001b[0m\n\u001b[0;32m----> 2\u001b[0;31m \u001b[0mPlotMyData\u001b[0m\u001b[0;34m(\u001b[0m\u001b[0mdata\u001b[0m\u001b[0;34m,\u001b[0m \u001b[0;34m[\u001b[0m\u001b[0;34m'01'\u001b[0m\u001b[0;34m,\u001b[0m\u001b[0;34m'12'\u001b[0m\u001b[0;34m,\u001b[0m\u001b[0;34m'02'\u001b[0m\u001b[0;34m]\u001b[0m\u001b[0;34m,\u001b[0m\u001b[0;34m[\u001b[0m\u001b[0;34m'XY'\u001b[0m\u001b[0;34m,\u001b[0m\u001b[0;34m'YZ'\u001b[0m\u001b[0;34m,\u001b[0m\u001b[0;34m'XZ'\u001b[0m\u001b[0;34m]\u001b[0m\u001b[0;34m)\u001b[0m\u001b[0;34m\u001b[0m\u001b[0;34m\u001b[0m\u001b[0m\n\u001b[0m",
            "\u001b[0;32m<ipython-input-90-be8c5952e542>\u001b[0m in \u001b[0;36mPlotMyData\u001b[0;34m(Mat, List_num, List_names)\u001b[0m\n\u001b[1;32m      2\u001b[0m   \u001b[0mNumOfWin\u001b[0m \u001b[0;34m=\u001b[0m \u001b[0mrange\u001b[0m\u001b[0;34m(\u001b[0m\u001b[0mlen\u001b[0m\u001b[0;34m(\u001b[0m\u001b[0mList_names\u001b[0m\u001b[0;34m)\u001b[0m\u001b[0;34m)\u001b[0m\u001b[0;34m\u001b[0m\u001b[0;34m\u001b[0m\u001b[0m\n\u001b[1;32m      3\u001b[0m   \u001b[0;31m#if NumOfWin in range(Len):\u001b[0m\u001b[0;34m\u001b[0m\u001b[0;34m\u001b[0m\u001b[0;34m\u001b[0m\u001b[0m\n\u001b[0;32m----> 4\u001b[0;31m   \u001b[0ma\u001b[0m \u001b[0;34m=\u001b[0m \u001b[0mint\u001b[0m\u001b[0;34m(\u001b[0m\u001b[0mlen\u001b[0m\u001b[0;34m(\u001b[0m\u001b[0mList_num\u001b[0m\u001b[0;34m[\u001b[0m\u001b[0mNumOfWin\u001b[0m\u001b[0;34m]\u001b[0m\u001b[0;34m[\u001b[0m\u001b[0;36m0\u001b[0m\u001b[0;34m]\u001b[0m\u001b[0;34m)\u001b[0m\u001b[0;34m)\u001b[0m\u001b[0;34m\u001b[0m\u001b[0;34m\u001b[0m\u001b[0m\n\u001b[0m\u001b[1;32m      5\u001b[0m   \u001b[0mb\u001b[0m \u001b[0;34m=\u001b[0m \u001b[0mint\u001b[0m\u001b[0;34m(\u001b[0m\u001b[0mlen\u001b[0m\u001b[0;34m(\u001b[0m\u001b[0mList_num\u001b[0m\u001b[0;34m[\u001b[0m\u001b[0mNumOfWin\u001b[0m\u001b[0;34m]\u001b[0m\u001b[0;34m[\u001b[0m\u001b[0;36m1\u001b[0m\u001b[0;34m]\u001b[0m\u001b[0;34m)\u001b[0m\u001b[0;34m)\u001b[0m\u001b[0;34m\u001b[0m\u001b[0;34m\u001b[0m\u001b[0m\n\u001b[1;32m      6\u001b[0m   \u001b[0mX\u001b[0m \u001b[0;34m=\u001b[0m \u001b[0mMat\u001b[0m \u001b[0;34m[\u001b[0m\u001b[0;34m:\u001b[0m\u001b[0;34m,\u001b[0m \u001b[0ma\u001b[0m\u001b[0;34m]\u001b[0m\u001b[0;34m\u001b[0m\u001b[0;34m\u001b[0m\u001b[0m\n",
            "\u001b[0;31mTypeError\u001b[0m: list indices must be integers or slices, not range"
          ]
        }
      ]
    }
  ]
}